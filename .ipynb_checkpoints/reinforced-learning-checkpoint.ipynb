{
 "cells": [
  {
   "cell_type": "code",
   "execution_count": 21,
   "metadata": {},
   "outputs": [],
   "source": [
    "import numpy as np;"
   ]
  },
  {
   "cell_type": "code",
   "execution_count": null,
   "metadata": {},
   "outputs": [],
   "source": [
    "R = np.matrix([\n",
    "    [-1, -1, 0, -1, -1, -1, -1, -1, -1, -1, 100],\n",
    "    [-1, -1, -1, 0, -1, -1, -1, -1, -1, -1, -1],\n",
    "    [0, -1, -1, -1, -1, -1, -1, 0, -1, -1, -1],\n",
    "    [-1, 0, -1, -1, -1, -1, 0, -1, -1, -1, -1],\n",
    "    [-1, -1, 0, -1, -1, -1, -1, -1, -1, -1, -1],\n",
    "    [-1, -1, -1, -1, -1, -1, 0, -1, -1, -1, 100],\n",
    "    [-1, -1, -1, 0, -1, 0, -1, -1, -1, -1, -1],\n",
    "    [-1, -1, 0, -1, -1, -1, -1, -1, 0, -1, 100],\n",
    "    [-1, -1, -1, -1, -1, -1, -1, 0, -1, 0, -1],\n",
    "    [-1, -1, -1, -1, -1, -1, -1, -1, 0, -1, 100],\n",
    "    [-1, -1, -1, -1, -1, -1, -1, -1, -1, -1, 100]\n",
    "]);"
   ]
  },
  {
   "cell_type": "code",
   "execution_count": null,
   "metadata": {},
   "outputs": [],
   "source": []
  },
  {
   "cell_type": "code",
   "execution_count": null,
   "metadata": {},
   "outputs": [],
   "source": []
  },
  {
   "cell_type": "code",
   "execution_count": 23,
   "metadata": {},
   "outputs": [],
   "source": [
    "Q = np.matrix(np.zeros([11, 11]))"
   ]
  },
  {
   "cell_type": "code",
   "execution_count": 24,
   "metadata": {},
   "outputs": [
    {
     "data": {
      "text/plain": [
       "(11,)"
      ]
     },
     "execution_count": 24,
     "metadata": {},
     "output_type": "execute_result"
    }
   ],
   "source": [
    "np.where(Q[1] == np.max(Q[1]))[1].shape"
   ]
  },
  {
   "cell_type": "code",
   "execution_count": 25,
   "metadata": {},
   "outputs": [],
   "source": [
    "def get_all_availiable_actions(currentstate):\n",
    "    return np.where(R[currentstate] >= 0)[1];\n",
    "def get_next_action(actions):\n",
    "    return np.random.choice(actions);\n",
    "def update_q(action, current_state):\n",
    "    max_index = np.where(Q[action] == np.max(Q[action]))[1];\n",
    "    if(max_index.shape[0] > 1):\n",
    "        max_index = np.random.choice(max_index, size=1);\n",
    "    max_index = int(max_index);\n",
    "    max_val = Q[action, max_index];\n",
    "    Q[current_state, action] = R[current_state, action] + 0.8*max_val;\n",
    "    "
   ]
  },
  {
   "cell_type": "code",
   "execution_count": null,
   "metadata": {},
   "outputs": [],
   "source": []
  },
  {
   "cell_type": "code",
   "execution_count": 26,
   "metadata": {},
   "outputs": [],
   "source": [
    "for i in range(10000):\n",
    "    current_state = np.random.randint(0, int(Q.shape[0]));\n",
    "    available_actions = get_all_availiable_actions(current_state);\n",
    "    action = get_next_action(available_actions);\n",
    "    update_q(action, current_state);"
   ]
  },
  {
   "cell_type": "code",
   "execution_count": 27,
   "metadata": {},
   "outputs": [
    {
     "data": {
      "text/plain": [
       "matrix([[500. , 400. ,   0. ,   0. ,   0. ,   0. , 400. ,   0. , 400. ,\n",
       "           0. , 400. ],\n",
       "        [500. ,   0. ,   0. , 320. ,   0. ,   0. ,   0. ,   0. ,   0. ,\n",
       "           0. ,   0. ],\n",
       "        [  0. ,   0. ,   0. ,   0. , 256. ,   0. ,   0. ,   0. ,   0. ,\n",
       "           0. ,   0. ],\n",
       "        [  0. , 400. ,   0. ,   0. ,   0. ,   0. ,   0. ,   0. , 400. ,\n",
       "           0. ,   0. ],\n",
       "        [  0. ,   0. , 204.8,   0. ,   0. ,   0. ,   0. , 320. ,   0. ,\n",
       "           0. ,   0. ],\n",
       "        [  0. ,   0. ,   0. , 320. ,   0. ,   0. ,   0. ,   0. ,   0. ,\n",
       "           0. ,   0. ],\n",
       "        [500. ,   0. ,   0. ,   0. ,   0. ,   0. ,   0. , 320. ,   0. ,\n",
       "           0. ,   0. ],\n",
       "        [  0. ,   0. ,   0. ,   0. , 256. ,   0. , 400. ,   0. ,   0. ,\n",
       "           0. ,   0. ],\n",
       "        [500. ,   0. ,   0. , 320. ,   0. ,   0. ,   0. ,   0. ,   0. ,\n",
       "         320. ,   0. ],\n",
       "        [  0. ,   0. ,   0. ,   0. ,   0. ,   0. ,   0. ,   0. , 400. ,\n",
       "           0. , 400. ],\n",
       "        [500. ,   0. ,   0. ,   0. ,   0. ,   0. ,   0. ,   0. ,   0. ,\n",
       "         320. ,   0. ]])"
      ]
     },
     "execution_count": 27,
     "metadata": {},
     "output_type": "execute_result"
    }
   ],
   "source": [
    "Q"
   ]
  },
  {
   "cell_type": "code",
   "execution_count": 28,
   "metadata": {},
   "outputs": [],
   "source": [
    "Q = (Q/np.max(Q))*100"
   ]
  },
  {
   "cell_type": "code",
   "execution_count": 29,
   "metadata": {},
   "outputs": [
    {
     "data": {
      "text/plain": [
       "matrix([[100.  ,  80.  ,   0.  ,   0.  ,   0.  ,   0.  ,  80.  ,   0.  ,\n",
       "          80.  ,   0.  ,  80.  ],\n",
       "        [100.  ,   0.  ,   0.  ,  64.  ,   0.  ,   0.  ,   0.  ,   0.  ,\n",
       "           0.  ,   0.  ,   0.  ],\n",
       "        [  0.  ,   0.  ,   0.  ,   0.  ,  51.2 ,   0.  ,   0.  ,   0.  ,\n",
       "           0.  ,   0.  ,   0.  ],\n",
       "        [  0.  ,  80.  ,   0.  ,   0.  ,   0.  ,   0.  ,   0.  ,   0.  ,\n",
       "          80.  ,   0.  ,   0.  ],\n",
       "        [  0.  ,   0.  ,  40.96,   0.  ,   0.  ,   0.  ,   0.  ,  64.  ,\n",
       "           0.  ,   0.  ,   0.  ],\n",
       "        [  0.  ,   0.  ,   0.  ,  64.  ,   0.  ,   0.  ,   0.  ,   0.  ,\n",
       "           0.  ,   0.  ,   0.  ],\n",
       "        [100.  ,   0.  ,   0.  ,   0.  ,   0.  ,   0.  ,   0.  ,  64.  ,\n",
       "           0.  ,   0.  ,   0.  ],\n",
       "        [  0.  ,   0.  ,   0.  ,   0.  ,  51.2 ,   0.  ,  80.  ,   0.  ,\n",
       "           0.  ,   0.  ,   0.  ],\n",
       "        [100.  ,   0.  ,   0.  ,  64.  ,   0.  ,   0.  ,   0.  ,   0.  ,\n",
       "           0.  ,  64.  ,   0.  ],\n",
       "        [  0.  ,   0.  ,   0.  ,   0.  ,   0.  ,   0.  ,   0.  ,   0.  ,\n",
       "          80.  ,   0.  ,  80.  ],\n",
       "        [100.  ,   0.  ,   0.  ,   0.  ,   0.  ,   0.  ,   0.  ,   0.  ,\n",
       "           0.  ,  64.  ,   0.  ]])"
      ]
     },
     "execution_count": 29,
     "metadata": {},
     "output_type": "execute_result"
    }
   ],
   "source": [
    "Q"
   ]
  },
  {
   "cell_type": "code",
   "execution_count": null,
   "metadata": {},
   "outputs": [],
   "source": []
  },
  {
   "cell_type": "code",
   "execution_count": null,
   "metadata": {},
   "outputs": [],
   "source": []
  },
  {
   "cell_type": "code",
   "execution_count": null,
   "metadata": {},
   "outputs": [],
   "source": []
  },
  {
   "cell_type": "code",
   "execution_count": null,
   "metadata": {},
   "outputs": [],
   "source": []
  },
  {
   "cell_type": "code",
   "execution_count": null,
   "metadata": {},
   "outputs": [],
   "source": []
  },
  {
   "cell_type": "code",
   "execution_count": null,
   "metadata": {},
   "outputs": [],
   "source": []
  },
  {
   "cell_type": "code",
   "execution_count": null,
   "metadata": {},
   "outputs": [],
   "source": []
  },
  {
   "cell_type": "code",
   "execution_count": null,
   "metadata": {},
   "outputs": [],
   "source": []
  },
  {
   "cell_type": "code",
   "execution_count": null,
   "metadata": {},
   "outputs": [],
   "source": []
  }
 ],
 "metadata": {
  "kernelspec": {
   "display_name": "Python 3",
   "language": "python",
   "name": "python3"
  },
  "language_info": {
   "codemirror_mode": {
    "name": "ipython",
    "version": 3
   },
   "file_extension": ".py",
   "mimetype": "text/x-python",
   "name": "python",
   "nbconvert_exporter": "python",
   "pygments_lexer": "ipython3",
   "version": "3.7.4"
  }
 },
 "nbformat": 4,
 "nbformat_minor": 4
}
