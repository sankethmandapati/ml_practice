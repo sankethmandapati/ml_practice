{
 "cells": [
  {
   "cell_type": "code",
   "execution_count": 64,
   "metadata": {},
   "outputs": [],
   "source": [
    "import numpy as np;"
   ]
  },
  {
   "cell_type": "code",
   "execution_count": 65,
   "metadata": {},
   "outputs": [],
   "source": [
    "R = np.matrix([\n",
    "    [-1, -1, 0, -1, -1, -1, -1, -1, -1, -1, 100],\n",
    "    [-1, -1, -1, 0, -1, -1, -1, -1, -1, -1, -1],\n",
    "    [0, -1, -1, -1, -1, -1, -1, 0, -1, -1, -1],\n",
    "    [-1, 0, -1, -1, -1, -1, 0, -1, -1, -1, -1],\n",
    "    [-1, -1, 0, -1, -1, -1, -1, -1, -1, -1, -1],\n",
    "    [-1, -1, -1, -1, -1, -1, 0, -1, -1, -1, 100],\n",
    "    [-1, -1, -1, 0, -1, 0, -1, -1, -1, -1, -1],\n",
    "    [-1, -1, 0, -1, -1, -1, -1, -1, 0, -1, 100],\n",
    "    [-1, -1, -1, -1, -1, -1, -1, 0, -1, 0, -1],\n",
    "    [-1, -1, -1, -1, -1, -1, -1, -1, 0, -1, 100],\n",
    "    [-1, -1, -1, -1, -1, -1, -1, -1, -1, -1, 100]\n",
    "]);"
   ]
  },
  {
   "cell_type": "code",
   "execution_count": 66,
   "metadata": {},
   "outputs": [],
   "source": [
    "Q = np.matrix(np.zeros([11, 11]))"
   ]
  },
  {
   "cell_type": "code",
   "execution_count": 67,
   "metadata": {},
   "outputs": [
    {
     "data": {
      "text/plain": [
       "(11,)"
      ]
     },
     "execution_count": 67,
     "metadata": {},
     "output_type": "execute_result"
    }
   ],
   "source": [
    "np.where(Q[1] == np.max(Q[1]))[1].shape"
   ]
  },
  {
   "cell_type": "code",
   "execution_count": 68,
   "metadata": {},
   "outputs": [],
   "source": [
    "def get_all_availiable_actions(currentstate):\n",
    "    return np.where(R[currentstate] >= 0)[1];\n",
    "def get_next_action(actions):\n",
    "    return np.random.choice(actions);\n",
    "def update_q(action, current_state):\n",
    "    max_index = np.where(Q[action] == np.max(Q[action]))[1];\n",
    "    if(max_index.shape[0] > 1):\n",
    "        max_index = np.random.choice(max_index, size=1);\n",
    "    max_index = int(max_index);\n",
    "    max_val = Q[action, max_index];\n",
    "    Q[current_state, action] = R[current_state, action] + 0.6*max_val;\n",
    "    "
   ]
  },
  {
   "cell_type": "code",
   "execution_count": 69,
   "metadata": {},
   "outputs": [],
   "source": [
    "for i in range(100):\n",
    "    current_state = np.random.randint(0, int(Q.shape[0]));\n",
    "    available_actions = get_all_availiable_actions(current_state);\n",
    "    action = get_next_action(available_actions);\n",
    "    update_q(action, current_state);"
   ]
  },
  {
   "cell_type": "code",
   "execution_count": 70,
   "metadata": {},
   "outputs": [
    {
     "data": {
      "text/plain": [
       "matrix([[  0.        ,   0.        ,  88.4883456 ,   0.        ,\n",
       "           0.        ,   0.        ,   0.        ,   0.        ,\n",
       "           0.        ,   0.        , 249.67348265],\n",
       "        [  0.        ,   0.        ,   0.        ,  53.45580442,\n",
       "           0.        ,   0.        ,   0.        ,   0.        ,\n",
       "           0.        ,   0.        ,   0.        ],\n",
       "        [147.480576  ,   0.        ,   0.        ,   0.        ,\n",
       "           0.        ,   0.        ,   0.        ,  53.45580442,\n",
       "           0.        ,   0.        ,   0.        ],\n",
       "        [  0.        ,  12.96      ,   0.        ,   0.        ,\n",
       "           0.        ,   0.        ,  89.09300736,   0.        ,\n",
       "           0.        ,   0.        ,   0.        ],\n",
       "        [  0.        ,   0.        ,  88.4883456 ,   0.        ,\n",
       "           0.        ,   0.        ,   0.        ,   0.        ,\n",
       "           0.        ,   0.        ,   0.        ],\n",
       "        [  0.        ,   0.        ,   0.        ,   0.        ,\n",
       "           0.        ,   0.        ,  89.09300736,   0.        ,\n",
       "           0.        ,   0.        , 249.67348265],\n",
       "        [  0.        ,   0.        ,   0.        ,  53.45580442,\n",
       "           0.        , 148.4883456 ,   0.        ,   0.        ,\n",
       "           0.        ,   0.        ,   0.        ],\n",
       "        [  0.        ,   0.        ,  88.4883456 ,   0.        ,\n",
       "           0.        ,   0.        ,   0.        ,   0.        ,\n",
       "          89.09300736,   0.        , 249.67348265],\n",
       "        [  0.        ,   0.        ,   0.        ,   0.        ,\n",
       "           0.        ,   0.        ,   0.        ,  53.09300736,\n",
       "           0.        , 149.67348265,   0.        ],\n",
       "        [  0.        ,   0.        ,   0.        ,   0.        ,\n",
       "           0.        ,   0.        ,   0.        ,   0.        ,\n",
       "          89.80408959,   0.        , 249.67348265],\n",
       "        [  0.        ,   0.        ,   0.        ,   0.        ,\n",
       "           0.        ,   0.        ,   0.        ,   0.        ,\n",
       "           0.        ,   0.        , 249.45580442]])"
      ]
     },
     "execution_count": 70,
     "metadata": {},
     "output_type": "execute_result"
    }
   ],
   "source": [
    "Q"
   ]
  },
  {
   "cell_type": "code",
   "execution_count": 71,
   "metadata": {},
   "outputs": [],
   "source": [
    "Q = (Q/np.max(Q))*100"
   ]
  },
  {
   "cell_type": "code",
   "execution_count": 72,
   "metadata": {},
   "outputs": [
    {
     "data": {
      "text/plain": [
       "matrix([[  0.        ,   0.        ,  35.44162747,   0.        ,\n",
       "           0.        ,   0.        ,   0.        ,   0.        ,\n",
       "           0.        ,   0.        , 100.        ],\n",
       "        [  0.        ,   0.        ,   0.        ,  21.41028508,\n",
       "           0.        ,   0.        ,   0.        ,   0.        ,\n",
       "           0.        ,   0.        ,   0.        ],\n",
       "        [ 59.06937911,   0.        ,   0.        ,   0.        ,\n",
       "           0.        ,   0.        ,   0.        ,  21.41028508,\n",
       "           0.        ,   0.        ,   0.        ],\n",
       "        [  0.        ,   5.19077952,   0.        ,   0.        ,\n",
       "           0.        ,   0.        ,  35.68380847,   0.        ,\n",
       "           0.        ,   0.        ,   0.        ],\n",
       "        [  0.        ,   0.        ,  35.44162747,   0.        ,\n",
       "           0.        ,   0.        ,   0.        ,   0.        ,\n",
       "           0.        ,   0.        ,   0.        ],\n",
       "        [  0.        ,   0.        ,   0.        ,   0.        ,\n",
       "           0.        ,   0.        ,  35.68380847,   0.        ,\n",
       "           0.        ,   0.        , 100.        ],\n",
       "        [  0.        ,   0.        ,   0.        ,  21.41028508,\n",
       "           0.        ,  59.47301412,   0.        ,   0.        ,\n",
       "           0.        ,   0.        ,   0.        ],\n",
       "        [  0.        ,   0.        ,  35.44162747,   0.        ,\n",
       "           0.        ,   0.        ,   0.        ,   0.        ,\n",
       "          35.68380847,   0.        , 100.        ],\n",
       "        [  0.        ,   0.        ,   0.        ,   0.        ,\n",
       "           0.        ,   0.        ,   0.        ,  21.26497648,\n",
       "           0.        ,  59.9476889 ,   0.        ],\n",
       "        [  0.        ,   0.        ,   0.        ,   0.        ,\n",
       "           0.        ,   0.        ,   0.        ,   0.        ,\n",
       "          35.96861334,   0.        , 100.        ],\n",
       "        [  0.        ,   0.        ,   0.        ,   0.        ,\n",
       "           0.        ,   0.        ,   0.        ,   0.        ,\n",
       "           0.        ,   0.        ,  99.91281484]])"
      ]
     },
     "execution_count": 72,
     "metadata": {},
     "output_type": "execute_result"
    }
   ],
   "source": [
    "Q"
   ]
  },
  {
   "cell_type": "code",
   "execution_count": 75,
   "metadata": {},
   "outputs": [],
   "source": [
    "goal_state = 10;\n",
    "current_state = 1;\n",
    "policy = [current_state];\n",
    "while(goal_state != current_state):\n",
    "    next_step_index = np.where(Q[current_state] == np.max(Q[current_state]))[1];\n",
    "    if(next_step_index.shape[0] > 1):\n",
    "        next_step_index = np.random.choice(next_step_index, size=1);\n",
    "    next_step_index = int(next_step_index);\n",
    "    policy.append(next_step_index);\n",
    "    current_state = next_step_index;"
   ]
  },
  {
   "cell_type": "code",
   "execution_count": 76,
   "metadata": {},
   "outputs": [
    {
     "data": {
      "text/plain": [
       "[1, 3, 6, 5, 10]"
      ]
     },
     "execution_count": 76,
     "metadata": {},
     "output_type": "execute_result"
    }
   ],
   "source": [
    "policy"
   ]
  },
  {
   "cell_type": "code",
   "execution_count": null,
   "metadata": {},
   "outputs": [],
   "source": []
  },
  {
   "cell_type": "code",
   "execution_count": null,
   "metadata": {},
   "outputs": [],
   "source": []
  },
  {
   "cell_type": "code",
   "execution_count": null,
   "metadata": {},
   "outputs": [],
   "source": []
  },
  {
   "cell_type": "code",
   "execution_count": null,
   "metadata": {},
   "outputs": [],
   "source": []
  },
  {
   "cell_type": "code",
   "execution_count": null,
   "metadata": {},
   "outputs": [],
   "source": []
  }
 ],
 "metadata": {
  "kernelspec": {
   "display_name": "Python 3",
   "language": "python",
   "name": "python3"
  },
  "language_info": {
   "codemirror_mode": {
    "name": "ipython",
    "version": 3
   },
   "file_extension": ".py",
   "mimetype": "text/x-python",
   "name": "python",
   "nbconvert_exporter": "python",
   "pygments_lexer": "ipython3",
   "version": "3.7.4"
  }
 },
 "nbformat": 4,
 "nbformat_minor": 4
}
